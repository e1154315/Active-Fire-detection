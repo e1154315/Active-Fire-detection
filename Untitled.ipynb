{
 "cells": [
  {
   "cell_type": "code",
   "execution_count": 1,
   "id": "b96cc87e",
   "metadata": {},
   "outputs": [
    {
     "name": "stdout",
     "output_type": "stream",
     "text": [
      "总共有 32 张图像被分割。\n",
      "训练集：25 张图像，占比 0.78\n",
      "验证集：7 张图像，占比 0.22\n",
      "13.0\n",
      "4.0\n",
      "Epoch 1/50\n",
      "12/13 [==========================>...] - ETA: 0s - loss: 0.9999 - dice_coefficient: 1.0504e-04 - iou: 5.2490e-05WARNING:tensorflow:Your input ran out of data; interrupting training. Make sure that your dataset or generator can generate at least `steps_per_epoch * epochs` batches (in this case, 650.0 batches). You may need to use the repeat() function when building your dataset.\n",
      "WARNING:tensorflow:Your input ran out of data; interrupting training. Make sure that your dataset or generator can generate at least `steps_per_epoch * epochs` batches (in this case, 4.0 batches). You may need to use the repeat() function when building your dataset.\n",
      "13/13 [==============================] - 12s 428ms/step - loss: 0.9999 - dice_coefficient: 1.0504e-04 - iou: 5.2490e-05 - val_loss: 0.9995 - val_dice_coefficient: 4.4175e-04 - val_iou: 2.2086e-04\n",
      "\n",
      "Epoch 00001: val_loss improved from inf to 0.99955, saving model to unet_threebands_val.hdf5\n"
     ]
    }
   ],
   "source": [
    "from train import main\n",
    "\n",
    "main()  # 调用 train.py 中的 main 函数\n"
   ]
  },
  {
   "cell_type": "code",
   "execution_count": null,
   "id": "0af29163",
   "metadata": {},
   "outputs": [],
   "source": []
  }
 ],
 "metadata": {
  "kernelspec": {
   "display_name": "tf26",
   "language": "python",
   "name": "tf26"
  },
  "language_info": {
   "codemirror_mode": {
    "name": "ipython",
    "version": 3
   },
   "file_extension": ".py",
   "mimetype": "text/x-python",
   "name": "python",
   "nbconvert_exporter": "python",
   "pygments_lexer": "ipython3",
   "version": "3.9.18"
  }
 },
 "nbformat": 4,
 "nbformat_minor": 5
}
